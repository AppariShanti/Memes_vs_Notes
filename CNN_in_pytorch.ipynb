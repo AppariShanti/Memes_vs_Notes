{
  "nbformat": 4,
  "nbformat_minor": 0,
  "metadata": {
    "colab": {
      "name": "CNN in pytorch",
      "provenance": []
    },
    "kernelspec": {
      "name": "python3",
      "display_name": "Python 3"
    }
  },
  "cells": [
    {
      "cell_type": "code",
      "metadata": {
        "id": "taTYKHB5ki6O",
        "colab_type": "code",
        "colab": {}
      },
      "source": [
        "import torch\n",
        "import torchvision\n",
        "import numpy as np\n",
        "import torchvision.transforms as transforms\n",
        "import matplotlib.pyplot as plt\n",
        "import cv2\n",
        "import os\n",
        "import math\n",
        "import random\n",
        "from torchvision import datasets\n",
        "from torch.utils.data.sampler import SubsetRandomSampler"
      ],
      "execution_count": null,
      "outputs": []
    },
    {
      "cell_type": "code",
      "metadata": {
        "id": "K4xVglAElUYu",
        "colab_type": "code",
        "colab": {}
      },
      "source": [
        "transform = transforms.Compose([transforms.RandomHorizontalFlip(),transforms.RandomRotation(20),transforms.Resize(size=(224,224)),transforms.ToTensor(),\n",
        "    transforms.Normalize((0.5, 0.5, 0.5), (0.5, 0.5, 0.5))])\n",
        "#transform=transforms.Compose([transforms.ToTensor(),transforms.Normalize((0.5, 0.5, 0.5), (0.5, 0.5, 0.5))])\n",
        "image_datasets = datasets.ImageFolder(root= \"/content/drive/My Drive/Dataset unzipped/Stage_2\",transform=transform)\n",
        "dataloaders = torch.utils.data.DataLoader(image_datasets, batch_size=32, shuffle=True, num_workers=2)\n",
        "\n"
      ],
      "execution_count": null,
      "outputs": []
    },
    {
      "cell_type": "code",
      "metadata": {
        "id": "4sLu1IpXl917",
        "colab_type": "code",
        "colab": {}
      },
      "source": [
        "batch_size=32\n",
        "test_size=0.3\n",
        "val_size=0.2\n",
        "\n",
        "\n",
        "\n",
        "num_data = len(image_datasets)\n",
        "indices_data = list(range(num_data))\n",
        "np.random.shuffle(indices_data)\n",
        "split_tt = int(np.floor(test_size * num_data))\n",
        "train_idx, test_idx = indices_data[split_tt:], indices_data[:split_tt]\n",
        "\n",
        "#For Valid\n",
        "num_train = len(train_idx)\n",
        "indices_train = list(range(num_train))\n",
        "np.random.shuffle(indices_train)\n",
        "split_tv = int(np.floor(val_size * num_train))\n",
        "train_new_idx, valid_idx = indices_train[split_tv:],indices_train[:split_tv]\n",
        "\n",
        "\n",
        "# define samplers for obtaining training and validation batches\n",
        "train_sampler = SubsetRandomSampler(train_new_idx)\n",
        "test_sampler = SubsetRandomSampler(test_idx)\n",
        "valid_sampler = SubsetRandomSampler(valid_idx)"
      ],
      "execution_count": null,
      "outputs": []
    },
    {
      "cell_type": "code",
      "metadata": {
        "id": "xs2o_eH-mhnA",
        "colab_type": "code",
        "colab": {}
      },
      "source": [
        "train_loader = torch.utils.data.DataLoader(image_datasets, batch_size=batch_size,sampler=train_sampler, num_workers=1)\n",
        "valid_loader = torch.utils.data.DataLoader(image_datasets, batch_size=batch_size,sampler=valid_sampler, num_workers=1)\n",
        "test_loader = torch.utils.data.DataLoader(image_datasets, sampler = test_sampler, batch_size=batch_size, num_workers=1)\n",
        "classes = [0,1]"
      ],
      "execution_count": null,
      "outputs": []
    },
    {
      "cell_type": "code",
      "metadata": {
        "id": "usB-Q5d_ril7",
        "colab_type": "code",
        "colab": {
          "base_uri": "https://localhost:8080/",
          "height": 187
        },
        "outputId": "8de62188-b4df-4478-f5ec-0f2437a82236"
      },
      "source": [
        "import torch.nn as nn\n",
        "import torch.nn.functional as F\n",
        "\n",
        "train_on_gpu = torch.cuda.is_available()\n",
        "\n",
        "class Network(nn.Module):\n",
        "  def __init__(self):\n",
        "    super(Network,self).__init__()\n",
        "\n",
        "    self.conv1 = nn.Conv2d(3,16,5)\n",
        "    self.pool = nn.MaxPool2d(2, 2)\n",
        "    self.conv2 = nn.Conv2d(16,32, 5)\n",
        "    self.dropout=nn.Dropout(0.2)\n",
        "    self.fc1 = nn.Linear(32 * 53 * 53, 256)\n",
        "    self.fc2 = nn.Linear(256, 84)\n",
        "    self.fc3 = nn.Linear(84, 2)\n",
        "    self.softmax=nn.LogSoftmax(dim=1)\n",
        "\n",
        "  def forward(self,x):\n",
        "    x = self.pool(F.relu(self.conv1(x)))\n",
        "    x = self.pool(F.relu(self.conv2(x)))\n",
        "    x = self.dropout(x)\n",
        "    x = x.view(-1, 32 * 53 * 53)\n",
        "    x = F.relu(self.fc1(x))\n",
        "    x = self.dropout(F.relu(self.fc2(x)))\n",
        "    x = self.softmax(self.fc3(x))\n",
        "    return x\n",
        "\n",
        "model = Network()\n",
        "print(model)\n",
        "if train_on_gpu:\n",
        "  model.cuda()"
      ],
      "execution_count": null,
      "outputs": [
        {
          "output_type": "stream",
          "text": [
            "Network(\n",
            "  (conv1): Conv2d(3, 16, kernel_size=(5, 5), stride=(1, 1))\n",
            "  (pool): MaxPool2d(kernel_size=2, stride=2, padding=0, dilation=1, ceil_mode=False)\n",
            "  (conv2): Conv2d(16, 32, kernel_size=(5, 5), stride=(1, 1))\n",
            "  (dropout): Dropout(p=0.2, inplace=False)\n",
            "  (fc1): Linear(in_features=89888, out_features=256, bias=True)\n",
            "  (fc2): Linear(in_features=256, out_features=84, bias=True)\n",
            "  (fc3): Linear(in_features=84, out_features=2, bias=True)\n",
            "  (softmax): LogSoftmax(dim=1)\n",
            ")\n"
          ],
          "name": "stdout"
        }
      ]
    },
    {
      "cell_type": "code",
      "metadata": {
        "id": "I5qk0JVjr3bB",
        "colab_type": "code",
        "colab": {}
      },
      "source": [
        "import torch.optim as optim\n",
        "loss_fn = torch.nn.CrossEntropyLoss()\n",
        "optimizer = torch.optim.Adam(model.parameters(),lr=0.0001,betas=(0.9,0.999),eps=1e-08,weight_decay=0)"
      ],
      "execution_count": null,
      "outputs": []
    },
    {
      "cell_type": "code",
      "metadata": {
        "id": "XG0M1Qkvr7u1",
        "colab_type": "code",
        "colab": {
          "base_uri": "https://localhost:8080/",
          "height": 153
        },
        "outputId": "8f083b83-a80c-4d39-ca03-38204729dc2b"
      },
      "source": [
        "num_epochs=8\n",
        "train_loss=0.0\n",
        "for epoch in range(num_epochs):\n",
        "  model.train()\n",
        "  for data,label in train_loader:\n",
        "    if train_on_gpu:\n",
        "      data, target = data.cuda(), target.cuda()\n",
        "    optimizer.zero_grad()\n",
        "    output=model(data)\n",
        "    loss=loss_fn(output,label)\n",
        "    loss.backward()\n",
        "    optimizer.step()\n",
        "    train_loss+=loss.item()*data.size(0)\n",
        "\n",
        "  train_loss = train_loss/len(train_loader.dataset)\n",
        "  print('Epoch: {} \\tTraining Loss: {:.6f}'.format(\n",
        "        epoch, train_loss))\n",
        "\n",
        "  "
      ],
      "execution_count": null,
      "outputs": [
        {
          "output_type": "stream",
          "text": [
            "Epoch: 0 \tTraining Loss: 0.155792\n",
            "Epoch: 1 \tTraining Loss: 0.046052\n",
            "Epoch: 2 \tTraining Loss: 0.026984\n",
            "Epoch: 3 \tTraining Loss: 0.022623\n",
            "Epoch: 4 \tTraining Loss: 0.014238\n",
            "Epoch: 5 \tTraining Loss: 0.009253\n",
            "Epoch: 6 \tTraining Loss: 0.010365\n",
            "Epoch: 7 \tTraining Loss: 0.016978\n"
          ],
          "name": "stdout"
        }
      ]
    },
    {
      "cell_type": "code",
      "metadata": {
        "id": "ELnCUxwx24iD",
        "colab_type": "code",
        "colab": {
          "base_uri": "https://localhost:8080/",
          "height": 102
        },
        "outputId": "81a79c8b-62c7-4050-90c8-0f49923baad8"
      },
      "source": [
        "model.eval()\n",
        "with torch.no_grad():\n",
        "  correct=0\n",
        "  total=0\n",
        "  for images,labels in valid_loader:\n",
        "    output=model(images)\n",
        "    _,predicted=torch.max(output.data,1)\n",
        "    total+=label.size(0)\n",
        "    correct += (predicted == labels).sum().item()\n",
        "  print('Validation Accuracy: {} %'.format((correct / total) * 100))\n",
        "  print(predicted)\n",
        "  print(labels)\n"
      ],
      "execution_count": null,
      "outputs": [
        {
          "output_type": "stream",
          "text": [
            "Validation Accuracy: 100.0 %\n",
            "tensor([0, 1, 0, 1, 0, 0, 0, 1, 0, 0, 1, 0, 1, 0, 0, 1, 1, 0, 1, 0, 0, 0, 0, 0,\n",
            "        0, 0, 1, 1, 0, 0, 0, 0])\n",
            "tensor([0, 1, 0, 1, 0, 0, 0, 1, 0, 0, 1, 0, 1, 0, 0, 1, 1, 0, 1, 0, 0, 0, 0, 0,\n",
            "        0, 0, 1, 1, 0, 0, 0, 0])\n"
          ],
          "name": "stdout"
        }
      ]
    },
    {
      "cell_type": "code",
      "metadata": {
        "id": "vfIYLosjk8_T",
        "colab_type": "code",
        "colab": {
          "base_uri": "https://localhost:8080/",
          "height": 102
        },
        "outputId": "190ed6d5-8819-4bfa-f859-8f4f54082104"
      },
      "source": [
        "model.eval()\n",
        "with torch.no_grad():\n",
        "  correct=0\n",
        "  total=0\n",
        "  for images,labels in test_loader:\n",
        "    output=model(images)\n",
        "    _,predicted=torch.max(output.data,1)\n",
        "    total+=label.size(0)\n",
        "    correct += (predicted == labels).sum().item()\n",
        "  print('Test Accuracy: {} %'.format((correct / total) * 100))\n",
        "  print(predicted)\n",
        "  print(labels)\n"
      ],
      "execution_count": null,
      "outputs": [
        {
          "output_type": "stream",
          "text": [
            "Test Accuracy: 89.58333333333334 %\n",
            "tensor([1, 1, 0, 1, 1, 1, 0, 0, 1, 0, 1, 0, 0, 1, 1, 0, 1, 0, 0, 0, 1, 0, 1, 0,\n",
            "        1, 0, 0, 1, 1, 0, 0, 0])\n",
            "tensor([1, 1, 0, 1, 1, 1, 0, 0, 1, 1, 1, 0, 0, 1, 1, 0, 1, 0, 0, 0, 1, 0, 1, 0,\n",
            "        1, 1, 0, 1, 1, 0, 0, 0])\n"
          ],
          "name": "stdout"
        }
      ]
    },
    {
      "cell_type": "code",
      "metadata": {
        "id": "g9t4XbdqDdC7",
        "colab_type": "code",
        "colab": {}
      },
      "source": [
        ""
      ],
      "execution_count": null,
      "outputs": []
    }
  ]
}